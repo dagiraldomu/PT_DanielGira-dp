{
  "nbformat": 4,
  "nbformat_minor": 0,
  "metadata": {
    "colab": {
      "name": "PruebaTecnica.ipynb",
      "provenance": []
    },
    "kernelspec": {
      "name": "python3",
      "display_name": "Python 3"
    }
  },
  "cells": [
    {
      "cell_type": "markdown",
      "metadata": {
        "id": "y9kRKitjreh6",
        "colab_type": "text"
      },
      "source": [
        "#parte 2"
      ]
    },
    {
      "cell_type": "markdown",
      "metadata": {
        "id": "HAI0qB8drtd9",
        "colab_type": "text"
      },
      "source": [
        "\n",
        "\n",
        "1.   Ejercicio: Nikhil's Password\n",
        "\n"
      ]
    },
    {
      "cell_type": "code",
      "metadata": {
        "id": "0yVilM_Zr26G",
        "colab_type": "code",
        "colab": {
          "base_uri": "https://localhost:8080/",
          "height": 102
        },
        "outputId": "402d0ef2-c83f-4277-dd49-241a84abd3d6"
      },
      "source": [
        "def lcs(i, j, count) :  \n",
        "  if (i == 0 or j == 0) :  \n",
        "      return count  \n",
        "  if (s1[i - 1] == s2[j - 1]) : \n",
        "      count = lcs(i - 1, j - 1, count + 1)  \n",
        "  count = max(count, max(lcs( i, j - 1, 0),  \n",
        "                          lcs( i - 1, j, 0)))  \n",
        "  return count\n",
        "\n",
        "def cadenaComun(s1,s2,s3,cc):\n",
        "  for i in range(0,len(s1)-1):\n",
        "    if s1[i:i+cc] in s2 and s1[i:i+cc] in s3:\n",
        "      return s1[i:i+cc]\n",
        "\n",
        "    \n",
        "def encontrarContraseña(s1,s2,s3):\n",
        "  caracteresComunes = min( (lcs(len(s1),len(s2),0)),(lcs(len(s1),len(s3),0)))\n",
        "  if caracteresComunes > 0:\n",
        "    print(cadenaComun(s1,s2,s3,caracteresComunes))\n",
        "  else:\n",
        "    print(\"No hay existe alguna subcadena común\")\n",
        "\n",
        "mnk = input()\n",
        "s1 = input()\n",
        "s2 = input()\n",
        "s3 = input()\n",
        "\"\"\"\n",
        "s1 = 'aabbabbaba'\n",
        "s2 = \"abbabababa\"\n",
        "s3 = \"bbabbabab\"\n",
        "\"\"\"\n",
        "\n",
        "encontrarContraseña(s1,s2,s3) \n",
        "\n"
      ],
      "execution_count": 53,
      "outputs": [
        {
          "output_type": "stream",
          "text": [
            "10 10 9\n",
            "aabbabbaba\n",
            "abbabababa\n",
            "bbabbabab\n",
            "abbaba\n"
          ],
          "name": "stdout"
        }
      ]
    },
    {
      "cell_type": "markdown",
      "metadata": {
        "id": "yM6U3LRerj9x",
        "colab_type": "text"
      },
      "source": [
        "\n",
        "\n",
        "2.  Ejercicio: Prime Palindromes\n",
        "\n"
      ]
    },
    {
      "cell_type": "code",
      "metadata": {
        "id": "2WA6wnzEqY-1",
        "colab_type": "code",
        "colab": {
          "base_uri": "https://localhost:8080/",
          "height": 51
        },
        "outputId": "16350374-a218-4bcb-8790-542e98fe63b7"
      },
      "source": [
        "def palindromo(cadena):\n",
        "  return cadena == cadena[::-1]\n",
        "def primo(num):\n",
        "  if num < 2:     \n",
        "    return False\n",
        "  for i in range(2, num):  \n",
        "    if num % i == 0:    \n",
        "      return False\n",
        "  else:\n",
        "    return True    \n",
        "\n",
        "n = input() \n",
        "n = int(n)\n",
        "for i in range(n,1000000):\n",
        "  if (palindromo(str(i)) and primo(i)):\n",
        "    print (i)\n",
        "    break"
      ],
      "execution_count": 30,
      "outputs": [
        {
          "output_type": "stream",
          "text": [
            "31\n",
            "101\n"
          ],
          "name": "stdout"
        }
      ]
    }
  ]
}